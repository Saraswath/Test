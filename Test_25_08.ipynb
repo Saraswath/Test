{
 "cells": [
  {
   "cell_type": "code",
   "execution_count": 111,
   "metadata": {},
   "outputs": [
    {
     "name": "stdout",
     "output_type": "stream",
     "text": [
      "Please enter the text to be encrypted:PSWD1234@#$%\n",
      "PSWD49\n",
      "PSWD\n"
     ]
    }
   ],
   "source": [
    "class Cipher:\n",
    "    S = input(\"Please enter the text to be encrypted:\") #ask for user for a str & store it\n",
    "    ciphertext=''\n",
    "    from random import randint\n",
    "    key =randint(1,50)\n",
    "    def encrypt ():\n",
    "        global ciphertext\n",
    "        ciphertext=\"\".join((character for character in Cipher.S if character.isalpha()))+str(Cipher.key) #Concatenate Str & random integer\n",
    "        print (ciphertext)\n",
    "    def decrypt():\n",
    "        d=\"\".join(character for character in ciphertext if character.isalpha())\n",
    "        print (d)\n",
    "C=Cipher\n",
    "C.encrypt()\n",
    "C.decrypt()"
   ]
  },
  {
   "cell_type": "code",
   "execution_count": 112,
   "metadata": {},
   "outputs": [
    {
     "name": "stdout",
     "output_type": "stream",
     "text": [
      "PSWD49\n"
     ]
    }
   ],
   "source": [
    "C.encrypt()"
   ]
  },
  {
   "cell_type": "code",
   "execution_count": 113,
   "metadata": {},
   "outputs": [
    {
     "name": "stdout",
     "output_type": "stream",
     "text": [
      "PSWD\n"
     ]
    }
   ],
   "source": [
    "C.decrypt()"
   ]
  }
 ],
 "metadata": {
  "kernelspec": {
   "display_name": "Python 3",
   "language": "python",
   "name": "python3"
  },
  "language_info": {
   "codemirror_mode": {
    "name": "ipython",
    "version": 3
   },
   "file_extension": ".py",
   "mimetype": "text/x-python",
   "name": "python",
   "nbconvert_exporter": "python",
   "pygments_lexer": "ipython3",
   "version": "3.6.5"
  }
 },
 "nbformat": 4,
 "nbformat_minor": 2
}
